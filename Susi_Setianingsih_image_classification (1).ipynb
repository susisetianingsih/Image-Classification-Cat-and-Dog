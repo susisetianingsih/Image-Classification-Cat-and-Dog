{
  "cells": [
    {
      "cell_type": "markdown",
      "metadata": {
        "id": "vC7OwE10ABev"
      },
      "source": [
        "# Load Library"
      ]
    },
    {
      "cell_type": "code",
      "execution_count": 1,
      "metadata": {
        "id": "QhGlZAgl_4aA"
      },
      "outputs": [],
      "source": [
        "import tensorflow as tf\n",
        "import zipfile, os\n",
        "import pandas as pd\n",
        "import numpy as np\n",
        "import matplotlib.pyplot as plt\n",
        "from google.colab import files\n",
        "from sklearn import preprocessing\n",
        "from tensorflow.keras.preprocessing.image import ImageDataGenerator\n",
        "from tensorflow.keras.optimizers import Adam\n",
        "from tensorflow.keras.callbacks import Callback\n",
        "\n",
        "from tensorflow.keras.models import Sequential\n",
        "from tensorflow.keras.layers import Conv2D, MaxPooling2D, Flatten, Dense, Dropout, BatchNormalization\n",
        "from tensorflow.keras.callbacks import ModelCheckpoint, EarlyStopping, ReduceLROnPlateau"
      ]
    },
    {
      "cell_type": "markdown",
      "metadata": {
        "id": "DUBqHM62AEcW"
      },
      "source": [
        "# Load Dataset"
      ]
    },
    {
      "cell_type": "code",
      "execution_count": 2,
      "metadata": {
        "colab": {
          "base_uri": "https://localhost:8080/",
          "height": 88
        },
        "id": "n4rM8VQSAGpB",
        "outputId": "5f527990-fa00-40d3-da11-7e325d05db5a"
      },
      "outputs": [
        {
          "output_type": "display_data",
          "data": {
            "text/plain": [
              "<IPython.core.display.HTML object>"
            ],
            "text/html": [
              "\n",
              "     <input type=\"file\" id=\"files-45bc966e-8b1e-411e-bfc7-d0022b0e93d1\" name=\"files[]\" multiple disabled\n",
              "        style=\"border:none\" />\n",
              "     <output id=\"result-45bc966e-8b1e-411e-bfc7-d0022b0e93d1\">\n",
              "      Upload widget is only available when the cell has been executed in the\n",
              "      current browser session. Please rerun this cell to enable.\n",
              "      </output>\n",
              "      <script>// Copyright 2017 Google LLC\n",
              "//\n",
              "// Licensed under the Apache License, Version 2.0 (the \"License\");\n",
              "// you may not use this file except in compliance with the License.\n",
              "// You may obtain a copy of the License at\n",
              "//\n",
              "//      http://www.apache.org/licenses/LICENSE-2.0\n",
              "//\n",
              "// Unless required by applicable law or agreed to in writing, software\n",
              "// distributed under the License is distributed on an \"AS IS\" BASIS,\n",
              "// WITHOUT WARRANTIES OR CONDITIONS OF ANY KIND, either express or implied.\n",
              "// See the License for the specific language governing permissions and\n",
              "// limitations under the License.\n",
              "\n",
              "/**\n",
              " * @fileoverview Helpers for google.colab Python module.\n",
              " */\n",
              "(function(scope) {\n",
              "function span(text, styleAttributes = {}) {\n",
              "  const element = document.createElement('span');\n",
              "  element.textContent = text;\n",
              "  for (const key of Object.keys(styleAttributes)) {\n",
              "    element.style[key] = styleAttributes[key];\n",
              "  }\n",
              "  return element;\n",
              "}\n",
              "\n",
              "// Max number of bytes which will be uploaded at a time.\n",
              "const MAX_PAYLOAD_SIZE = 100 * 1024;\n",
              "\n",
              "function _uploadFiles(inputId, outputId) {\n",
              "  const steps = uploadFilesStep(inputId, outputId);\n",
              "  const outputElement = document.getElementById(outputId);\n",
              "  // Cache steps on the outputElement to make it available for the next call\n",
              "  // to uploadFilesContinue from Python.\n",
              "  outputElement.steps = steps;\n",
              "\n",
              "  return _uploadFilesContinue(outputId);\n",
              "}\n",
              "\n",
              "// This is roughly an async generator (not supported in the browser yet),\n",
              "// where there are multiple asynchronous steps and the Python side is going\n",
              "// to poll for completion of each step.\n",
              "// This uses a Promise to block the python side on completion of each step,\n",
              "// then passes the result of the previous step as the input to the next step.\n",
              "function _uploadFilesContinue(outputId) {\n",
              "  const outputElement = document.getElementById(outputId);\n",
              "  const steps = outputElement.steps;\n",
              "\n",
              "  const next = steps.next(outputElement.lastPromiseValue);\n",
              "  return Promise.resolve(next.value.promise).then((value) => {\n",
              "    // Cache the last promise value to make it available to the next\n",
              "    // step of the generator.\n",
              "    outputElement.lastPromiseValue = value;\n",
              "    return next.value.response;\n",
              "  });\n",
              "}\n",
              "\n",
              "/**\n",
              " * Generator function which is called between each async step of the upload\n",
              " * process.\n",
              " * @param {string} inputId Element ID of the input file picker element.\n",
              " * @param {string} outputId Element ID of the output display.\n",
              " * @return {!Iterable<!Object>} Iterable of next steps.\n",
              " */\n",
              "function* uploadFilesStep(inputId, outputId) {\n",
              "  const inputElement = document.getElementById(inputId);\n",
              "  inputElement.disabled = false;\n",
              "\n",
              "  const outputElement = document.getElementById(outputId);\n",
              "  outputElement.innerHTML = '';\n",
              "\n",
              "  const pickedPromise = new Promise((resolve) => {\n",
              "    inputElement.addEventListener('change', (e) => {\n",
              "      resolve(e.target.files);\n",
              "    });\n",
              "  });\n",
              "\n",
              "  const cancel = document.createElement('button');\n",
              "  inputElement.parentElement.appendChild(cancel);\n",
              "  cancel.textContent = 'Cancel upload';\n",
              "  const cancelPromise = new Promise((resolve) => {\n",
              "    cancel.onclick = () => {\n",
              "      resolve(null);\n",
              "    };\n",
              "  });\n",
              "\n",
              "  // Wait for the user to pick the files.\n",
              "  const files = yield {\n",
              "    promise: Promise.race([pickedPromise, cancelPromise]),\n",
              "    response: {\n",
              "      action: 'starting',\n",
              "    }\n",
              "  };\n",
              "\n",
              "  cancel.remove();\n",
              "\n",
              "  // Disable the input element since further picks are not allowed.\n",
              "  inputElement.disabled = true;\n",
              "\n",
              "  if (!files) {\n",
              "    return {\n",
              "      response: {\n",
              "        action: 'complete',\n",
              "      }\n",
              "    };\n",
              "  }\n",
              "\n",
              "  for (const file of files) {\n",
              "    const li = document.createElement('li');\n",
              "    li.append(span(file.name, {fontWeight: 'bold'}));\n",
              "    li.append(span(\n",
              "        `(${file.type || 'n/a'}) - ${file.size} bytes, ` +\n",
              "        `last modified: ${\n",
              "            file.lastModifiedDate ? file.lastModifiedDate.toLocaleDateString() :\n",
              "                                    'n/a'} - `));\n",
              "    const percent = span('0% done');\n",
              "    li.appendChild(percent);\n",
              "\n",
              "    outputElement.appendChild(li);\n",
              "\n",
              "    const fileDataPromise = new Promise((resolve) => {\n",
              "      const reader = new FileReader();\n",
              "      reader.onload = (e) => {\n",
              "        resolve(e.target.result);\n",
              "      };\n",
              "      reader.readAsArrayBuffer(file);\n",
              "    });\n",
              "    // Wait for the data to be ready.\n",
              "    let fileData = yield {\n",
              "      promise: fileDataPromise,\n",
              "      response: {\n",
              "        action: 'continue',\n",
              "      }\n",
              "    };\n",
              "\n",
              "    // Use a chunked sending to avoid message size limits. See b/62115660.\n",
              "    let position = 0;\n",
              "    do {\n",
              "      const length = Math.min(fileData.byteLength - position, MAX_PAYLOAD_SIZE);\n",
              "      const chunk = new Uint8Array(fileData, position, length);\n",
              "      position += length;\n",
              "\n",
              "      const base64 = btoa(String.fromCharCode.apply(null, chunk));\n",
              "      yield {\n",
              "        response: {\n",
              "          action: 'append',\n",
              "          file: file.name,\n",
              "          data: base64,\n",
              "        },\n",
              "      };\n",
              "\n",
              "      let percentDone = fileData.byteLength === 0 ?\n",
              "          100 :\n",
              "          Math.round((position / fileData.byteLength) * 100);\n",
              "      percent.textContent = `${percentDone}% done`;\n",
              "\n",
              "    } while (position < fileData.byteLength);\n",
              "  }\n",
              "\n",
              "  // All done.\n",
              "  yield {\n",
              "    response: {\n",
              "      action: 'complete',\n",
              "    }\n",
              "  };\n",
              "}\n",
              "\n",
              "scope.google = scope.google || {};\n",
              "scope.google.colab = scope.google.colab || {};\n",
              "scope.google.colab._files = {\n",
              "  _uploadFiles,\n",
              "  _uploadFilesContinue,\n",
              "};\n",
              "})(self);\n",
              "</script> "
            ]
          },
          "metadata": {}
        },
        {
          "output_type": "stream",
          "name": "stdout",
          "text": [
            "Saving kaggle.json to kaggle.json\n",
            "File \"kaggle.json\" dengan panjang 72 bytes berhasil diupload\n"
          ]
        }
      ],
      "source": [
        "# Upload file kaggle.json yang sudah diunduh\n",
        "uploaded = files.upload()\n",
        "\n",
        "# Pastikan file sudah terupload dengan baik\n",
        "for fn in uploaded.keys():\n",
        "    print('File \"{name}\" dengan panjang {length} bytes berhasil diupload'.format(name=fn, length=len(uploaded[fn])))"
      ]
    },
    {
      "cell_type": "code",
      "execution_count": 3,
      "metadata": {
        "id": "-rOz1d2QAnhb"
      },
      "outputs": [],
      "source": [
        "# Pasang Kaggle API di collab\n",
        "!pip install -q kaggle\n",
        "!mkdir ~/.kaggle\n",
        "!cp kaggle.json ~/.kaggle/\n",
        "!chmod 600 ~/.kaggle/kaggle.json"
      ]
    },
    {
      "cell_type": "code",
      "execution_count": 4,
      "metadata": {
        "colab": {
          "base_uri": "https://localhost:8080/"
        },
        "id": "KFSWPM5fA_Cu",
        "outputId": "d91baaa3-31ec-4423-8493-109bd12da2a9"
      },
      "outputs": [
        {
          "output_type": "stream",
          "name": "stdout",
          "text": [
            "Downloading cat-and-dog.zip to /tmp/content\n",
            " 95% 206M/218M [00:01<00:00, 126MB/s] \n",
            "100% 218M/218M [00:01<00:00, 141MB/s]\n"
          ]
        }
      ],
      "source": [
        "# Unduh dataset dan masukkan ke folder tmp/content\n",
        "!kaggle datasets download -d tongpython/cat-and-dog -p /tmp/content"
      ]
    },
    {
      "cell_type": "code",
      "execution_count": 14,
      "metadata": {
        "id": "5rwNknqTBO7_"
      },
      "outputs": [],
      "source": [
        "# Ekstraksi file zip\n",
        "local_zip = '/tmp/content/cat-and-dog.zip'\n",
        "zip_ref = zipfile.ZipFile(local_zip, 'r')\n",
        "zip_ref.extractall('/tmp/hasil')\n",
        "zip_ref.close()"
      ]
    },
    {
      "cell_type": "code",
      "execution_count": 15,
      "metadata": {
        "id": "37y4TzpbBale",
        "colab": {
          "base_uri": "https://localhost:8080/"
        },
        "outputId": "55172a0f-eb3c-4961-e702-9a22291cabad"
      },
      "outputs": [
        {
          "output_type": "execute_result",
          "data": {
            "text/plain": [
              "['dogs', 'cats']"
            ]
          },
          "metadata": {},
          "execution_count": 15
        }
      ],
      "source": [
        "# Direktori data latih dan data validasi\n",
        "train_dir = '/tmp/hasil/training_set/training_set'\n",
        "valid_dir = '/tmp/hasil/test_set/test_set'\n",
        "classes = os.listdir(train_dir)\n",
        "classes"
      ]
    },
    {
      "cell_type": "code",
      "execution_count": 6,
      "metadata": {
        "id": "ycPrAD7nIDWW"
      },
      "outputs": [],
      "source": [
        "from tensorflow.keras.preprocessing.image import ImageDataGenerator\n",
        "train_datagen = ImageDataGenerator(rescale=1./255,\n",
        "                                    featurewise_center=False,\n",
        "                                    samplewise_center=False,\n",
        "                                    featurewise_std_normalization=False,\n",
        "                                    samplewise_std_normalization=False,\n",
        "                                    zca_whitening=False,\n",
        "                                    rotation_range=20,\n",
        "                                    zoom_range = 0.1,\n",
        "                                    width_shift_range=0.2,\n",
        "                                    height_shift_range=0.2,\n",
        "                                    horizontal_flip=True,\n",
        "                                    vertical_flip=True,\n",
        "                                   shear_range = 0.2,\n",
        "                                   fill_mode = 'nearest')\n",
        "\n",
        "\n",
        "validation_datagen = ImageDataGenerator(rescale=1./255)"
      ]
    },
    {
      "cell_type": "code",
      "execution_count": 16,
      "metadata": {
        "colab": {
          "base_uri": "https://localhost:8080/"
        },
        "id": "Tmm_4xb-IFGz",
        "outputId": "237c2620-7798-471a-d6fe-40ec21b4c360"
      },
      "outputs": [
        {
          "output_type": "stream",
          "name": "stdout",
          "text": [
            "Found 8005 images belonging to 2 classes.\n",
            "Found 2023 images belonging to 2 classes.\n"
          ]
        }
      ],
      "source": [
        "train_generator = train_datagen.flow_from_directory(\n",
        "        train_dir,                # direktori data latih\n",
        "        target_size=(150, 150),   # mengubah resolusi seluruh gambar menjadi 180x180 piksel\n",
        "        batch_size=32,             # mengatur jumlah gambar yang dimuat setiap batch selama pelatihan\n",
        "        class_mode='categorical') # karena ini merupakan masalah klasifikasi lebih dari 2 kelas maka menggunakan class_mode = 'categorical'\n",
        "\n",
        "validation_generator = validation_datagen.flow_from_directory(\n",
        "        valid_dir, # direktori data validasi\n",
        "        target_size=(150, 150), # mengubah resolusi seluruh gambar menjadi 180x180 piksel\n",
        "        batch_size=32,             # mengatur jumlah gambar yang dimuat setiap batch selama pelatihan\n",
        "        # karena ini merupakan masalah klasifikasi lebih dari 2 kelas maka menggunakan class_mode = 'categorical'\n",
        "        class_mode='categorical')"
      ]
    },
    {
      "cell_type": "markdown",
      "metadata": {
        "id": "KoFyb_-YIlVi"
      },
      "source": [
        "# Pemodelan"
      ]
    },
    {
      "cell_type": "code",
      "execution_count": 8,
      "metadata": {
        "id": "KB6oslUvIbIf"
      },
      "outputs": [],
      "source": [
        "model = tf.keras.models.Sequential([\n",
        "    tf.keras.layers.Conv2D(64, (3,3), activation='relu', input_shape=(150, 150, 3)),\n",
        "    tf.keras.layers.MaxPooling2D(2, 2),\n",
        "    tf.keras.layers.Conv2D(128, (3,3), activation='relu'),\n",
        "    tf.keras.layers.MaxPooling2D(2, 2),\n",
        "    tf.keras.layers.Conv2D(256, (3,3), activation='relu'),\n",
        "    tf.keras.layers.MaxPooling2D(2, 2),\n",
        "    tf.keras.layers.Conv2D(512, (3,3), activation='relu'),\n",
        "    tf.keras.layers.MaxPooling2D(2, 2),\n",
        "    tf.keras.layers.Flatten(),\n",
        "    tf.keras.layers.Dense(1024, activation='relu'),\n",
        "    tf.keras.layers.Dense(2048, activation='relu'),\n",
        "    tf.keras.layers.Dense(2048, activation='relu'),\n",
        "    tf.keras.layers.Dense(2, activation='softmax')\n",
        "])"
      ]
    },
    {
      "cell_type": "code",
      "execution_count": 9,
      "metadata": {
        "colab": {
          "base_uri": "https://localhost:8080/"
        },
        "id": "aVawpxx7Itul",
        "outputId": "54625d75-1682-4b0d-de39-c1d76b50626a"
      },
      "outputs": [
        {
          "output_type": "stream",
          "name": "stdout",
          "text": [
            "Model: \"sequential\"\n",
            "_________________________________________________________________\n",
            " Layer (type)                Output Shape              Param #   \n",
            "=================================================================\n",
            " conv2d (Conv2D)             (None, 148, 148, 64)      1792      \n",
            "                                                                 \n",
            " max_pooling2d (MaxPooling2  (None, 74, 74, 64)        0         \n",
            " D)                                                              \n",
            "                                                                 \n",
            " conv2d_1 (Conv2D)           (None, 72, 72, 128)       73856     \n",
            "                                                                 \n",
            " max_pooling2d_1 (MaxPoolin  (None, 36, 36, 128)       0         \n",
            " g2D)                                                            \n",
            "                                                                 \n",
            " conv2d_2 (Conv2D)           (None, 34, 34, 256)       295168    \n",
            "                                                                 \n",
            " max_pooling2d_2 (MaxPoolin  (None, 17, 17, 256)       0         \n",
            " g2D)                                                            \n",
            "                                                                 \n",
            " conv2d_3 (Conv2D)           (None, 15, 15, 512)       1180160   \n",
            "                                                                 \n",
            " max_pooling2d_3 (MaxPoolin  (None, 7, 7, 512)         0         \n",
            " g2D)                                                            \n",
            "                                                                 \n",
            " flatten (Flatten)           (None, 25088)             0         \n",
            "                                                                 \n",
            " dense (Dense)               (None, 1024)              25691136  \n",
            "                                                                 \n",
            " dense_1 (Dense)             (None, 2048)              2099200   \n",
            "                                                                 \n",
            " dense_2 (Dense)             (None, 2048)              4196352   \n",
            "                                                                 \n",
            " dense_3 (Dense)             (None, 2)                 4098      \n",
            "                                                                 \n",
            "=================================================================\n",
            "Total params: 33541762 (127.95 MB)\n",
            "Trainable params: 33541762 (127.95 MB)\n",
            "Non-trainable params: 0 (0.00 Byte)\n",
            "_________________________________________________________________\n"
          ]
        }
      ],
      "source": [
        "model.summary()"
      ]
    },
    {
      "cell_type": "code",
      "execution_count": 10,
      "metadata": {
        "id": "KoLltwJnI3gV"
      },
      "outputs": [],
      "source": [
        "from tensorflow.keras.optimizers import Adam\n",
        "\n",
        "# Learning rate\n",
        "learning_rate = 0.0001\n",
        "\n",
        "# Inisialisasi optimizer Adam dengan learning rate\n",
        "optimizer = Adam(learning_rate=learning_rate)\n",
        "\n",
        "# Compile model dengan optimizer\n",
        "model.compile(loss='categorical_crossentropy',\n",
        "              optimizer=optimizer,\n",
        "              metrics=['accuracy'])"
      ]
    },
    {
      "cell_type": "code",
      "execution_count": 11,
      "metadata": {
        "id": "0uDQr3McN7Pg",
        "colab": {
          "base_uri": "https://localhost:8080/"
        },
        "outputId": "c2d55076-031d-4aed-cbb5-3592d138cc93"
      },
      "outputs": [
        {
          "output_type": "stream",
          "name": "stdout",
          "text": [
            "250\n",
            "63\n"
          ]
        }
      ],
      "source": [
        "# Jumlah sampel dan ukuran batch\n",
        "total_train_samples = 8005\n",
        "total_val_samples = 2023\n",
        "batch_size = 32\n",
        "\n",
        "# Menghitung steps_per_epoch dan validation_steps\n",
        "steps_per_epoch = total_train_samples // batch_size\n",
        "validation_steps = total_val_samples // batch_size\n",
        "\n",
        "print(steps_per_epoch)\n",
        "print(validation_steps)"
      ]
    },
    {
      "cell_type": "code",
      "source": [
        "from tensorflow.keras.callbacks import EarlyStopping, ModelCheckpoint, LearningRateScheduler\n",
        "\n",
        "checkpoint_path = \"proyek_akhir.h5\"\n",
        "ModelCheckpoint = ModelCheckpoint(\n",
        "    checkpoint_path, monitor='val_loss',\n",
        "    mode='min',\n",
        "    save_best_only=True,\n",
        "    patience=5, #5, 10, 20\n",
        "    verbose=1)\n",
        "\n",
        "class StopModelCallback(Callback):\n",
        "  def on_epoch_end(self, epoch, logs={}):\n",
        "    if(logs.get('accuracy') >= 0.92 and logs.get('val_accuracy') >= 0.92):\n",
        "      print(\"\\nAccuracy and Validation Accuracy telah sama tau melebihi 92%!\\nStop Train!\")\n",
        "      self.model.stop_training = True\n",
        "\n",
        "StopModel = StopModelCallback()"
      ],
      "metadata": {
        "id": "CJFRnEof6gT9"
      },
      "execution_count": 12,
      "outputs": []
    },
    {
      "cell_type": "code",
      "execution_count": 17,
      "metadata": {
        "colab": {
          "base_uri": "https://localhost:8080/"
        },
        "id": "xGI3nsQGI2x4",
        "outputId": "4c79154b-4c3f-49d5-8643-e20071ba461f"
      },
      "outputs": [
        {
          "metadata": {
            "tags": null
          },
          "name": "stdout",
          "output_type": "stream",
          "text": [
            "Epoch 1/50\n",
            "250/250 [==============================] - ETA: 0s - loss: 0.6813 - accuracy: 0.5510\n",
            "Epoch 1: val_loss improved from inf to 0.64379, saving model to proyek_akhir.h5\n"
          ]
        },
        {
          "metadata": {
            "tags": null
          },
          "name": "stderr",
          "output_type": "stream",
          "text": [
            "/usr/local/lib/python3.10/dist-packages/keras/src/engine/training.py:3103: UserWarning: You are saving your model as an HDF5 file via `model.save()`. This file format is considered legacy. We recommend using instead the native Keras format, e.g. `model.save('my_model.keras')`.\n",
            "  saving_api.save_model(\n"
          ]
        },
        {
          "output_type": "stream",
          "name": "stdout",
          "text": [
            "250/250 [==============================] - 82s 289ms/step - loss: 0.6813 - accuracy: 0.5510 - val_loss: 0.6438 - val_accuracy: 0.6250\n",
            "Epoch 2/50\n",
            "250/250 [==============================] - ETA: 0s - loss: 0.6397 - accuracy: 0.6318\n",
            "Epoch 2: val_loss improved from 0.64379 to 0.60822, saving model to proyek_akhir.h5\n",
            "250/250 [==============================] - 71s 286ms/step - loss: 0.6397 - accuracy: 0.6318 - val_loss: 0.6082 - val_accuracy: 0.6701\n",
            "Epoch 3/50\n",
            "250/250 [==============================] - ETA: 0s - loss: 0.6084 - accuracy: 0.6617\n",
            "Epoch 3: val_loss improved from 0.60822 to 0.56564, saving model to proyek_akhir.h5\n",
            "250/250 [==============================] - 66s 265ms/step - loss: 0.6084 - accuracy: 0.6617 - val_loss: 0.5656 - val_accuracy: 0.7247\n",
            "Epoch 4/50\n",
            "250/250 [==============================] - ETA: 0s - loss: 0.5900 - accuracy: 0.6863\n",
            "Epoch 4: val_loss improved from 0.56564 to 0.52082, saving model to proyek_akhir.h5\n",
            "250/250 [==============================] - 69s 277ms/step - loss: 0.5900 - accuracy: 0.6863 - val_loss: 0.5208 - val_accuracy: 0.7445\n",
            "Epoch 5/50\n",
            "250/250 [==============================] - ETA: 0s - loss: 0.5587 - accuracy: 0.7089\n",
            "Epoch 5: val_loss improved from 0.52082 to 0.48390, saving model to proyek_akhir.h5\n",
            "250/250 [==============================] - 73s 292ms/step - loss: 0.5587 - accuracy: 0.7089 - val_loss: 0.4839 - val_accuracy: 0.7634\n",
            "Epoch 6/50\n",
            "250/250 [==============================] - ETA: 0s - loss: 0.5452 - accuracy: 0.7229\n",
            "Epoch 6: val_loss did not improve from 0.48390\n",
            "250/250 [==============================] - 66s 263ms/step - loss: 0.5452 - accuracy: 0.7229 - val_loss: 0.4976 - val_accuracy: 0.7654\n",
            "Epoch 7/50\n",
            "250/250 [==============================] - ETA: 0s - loss: 0.5232 - accuracy: 0.7354\n",
            "Epoch 7: val_loss improved from 0.48390 to 0.48386, saving model to proyek_akhir.h5\n",
            "250/250 [==============================] - 72s 288ms/step - loss: 0.5232 - accuracy: 0.7354 - val_loss: 0.4839 - val_accuracy: 0.7679\n",
            "Epoch 8/50\n",
            "250/250 [==============================] - ETA: 0s - loss: 0.5091 - accuracy: 0.7474\n",
            "Epoch 8: val_loss improved from 0.48386 to 0.44621, saving model to proyek_akhir.h5\n",
            "250/250 [==============================] - 74s 295ms/step - loss: 0.5091 - accuracy: 0.7474 - val_loss: 0.4462 - val_accuracy: 0.7897\n",
            "Epoch 9/50\n",
            "250/250 [==============================] - ETA: 0s - loss: 0.5016 - accuracy: 0.7547\n",
            "Epoch 9: val_loss did not improve from 0.44621\n",
            "250/250 [==============================] - 66s 262ms/step - loss: 0.5016 - accuracy: 0.7547 - val_loss: 0.4616 - val_accuracy: 0.7902\n",
            "Epoch 10/50\n",
            "250/250 [==============================] - ETA: 0s - loss: 0.4748 - accuracy: 0.7737\n",
            "Epoch 10: val_loss improved from 0.44621 to 0.41490, saving model to proyek_akhir.h5\n",
            "250/250 [==============================] - 72s 289ms/step - loss: 0.4748 - accuracy: 0.7737 - val_loss: 0.4149 - val_accuracy: 0.8105\n",
            "Epoch 11/50\n",
            "250/250 [==============================] - ETA: 0s - loss: 0.4615 - accuracy: 0.7805\n",
            "Epoch 11: val_loss did not improve from 0.41490\n",
            "250/250 [==============================] - 65s 261ms/step - loss: 0.4615 - accuracy: 0.7805 - val_loss: 0.4263 - val_accuracy: 0.7996\n",
            "Epoch 12/50\n",
            "250/250 [==============================] - ETA: 0s - loss: 0.4489 - accuracy: 0.7845\n",
            "Epoch 12: val_loss improved from 0.41490 to 0.40775, saving model to proyek_akhir.h5\n",
            "250/250 [==============================] - 72s 286ms/step - loss: 0.4489 - accuracy: 0.7845 - val_loss: 0.4077 - val_accuracy: 0.8065\n",
            "Epoch 13/50\n",
            "250/250 [==============================] - ETA: 0s - loss: 0.4400 - accuracy: 0.7936\n",
            "Epoch 13: val_loss improved from 0.40775 to 0.39791, saving model to proyek_akhir.h5\n",
            "250/250 [==============================] - 69s 277ms/step - loss: 0.4400 - accuracy: 0.7936 - val_loss: 0.3979 - val_accuracy: 0.8199\n",
            "Epoch 14/50\n",
            "250/250 [==============================] - ETA: 0s - loss: 0.4250 - accuracy: 0.8036\n",
            "Epoch 14: val_loss improved from 0.39791 to 0.36768, saving model to proyek_akhir.h5\n",
            "250/250 [==============================] - 70s 280ms/step - loss: 0.4250 - accuracy: 0.8036 - val_loss: 0.3677 - val_accuracy: 0.8428\n",
            "Epoch 15/50\n",
            "250/250 [==============================] - ETA: 0s - loss: 0.4144 - accuracy: 0.8061\n",
            "Epoch 15: val_loss did not improve from 0.36768\n",
            "250/250 [==============================] - 64s 256ms/step - loss: 0.4144 - accuracy: 0.8061 - val_loss: 0.3714 - val_accuracy: 0.8363\n",
            "Epoch 16/50\n",
            "250/250 [==============================] - ETA: 0s - loss: 0.3966 - accuracy: 0.8203\n",
            "Epoch 16: val_loss improved from 0.36768 to 0.36491, saving model to proyek_akhir.h5\n",
            "250/250 [==============================] - 69s 276ms/step - loss: 0.3966 - accuracy: 0.8203 - val_loss: 0.3649 - val_accuracy: 0.8393\n",
            "Epoch 17/50\n",
            "250/250 [==============================] - ETA: 0s - loss: 0.3864 - accuracy: 0.8258\n",
            "Epoch 17: val_loss did not improve from 0.36491\n",
            "250/250 [==============================] - 63s 253ms/step - loss: 0.3864 - accuracy: 0.8258 - val_loss: 0.3824 - val_accuracy: 0.8462\n",
            "Epoch 18/50\n",
            "250/250 [==============================] - ETA: 0s - loss: 0.3772 - accuracy: 0.8268\n",
            "Epoch 18: val_loss did not improve from 0.36491\n",
            "250/250 [==============================] - 66s 264ms/step - loss: 0.3772 - accuracy: 0.8268 - val_loss: 0.4191 - val_accuracy: 0.8170\n",
            "Epoch 19/50\n",
            "250/250 [==============================] - ETA: 0s - loss: 0.3635 - accuracy: 0.8383\n",
            "Epoch 19: val_loss did not improve from 0.36491\n",
            "250/250 [==============================] - 63s 251ms/step - loss: 0.3635 - accuracy: 0.8383 - val_loss: 0.3682 - val_accuracy: 0.8442\n",
            "Epoch 20/50\n",
            "250/250 [==============================] - ETA: 0s - loss: 0.3429 - accuracy: 0.8487\n",
            "Epoch 20: val_loss improved from 0.36491 to 0.33561, saving model to proyek_akhir.h5\n",
            "250/250 [==============================] - 69s 276ms/step - loss: 0.3429 - accuracy: 0.8487 - val_loss: 0.3356 - val_accuracy: 0.8576\n",
            "Epoch 21/50\n",
            "250/250 [==============================] - ETA: 0s - loss: 0.3389 - accuracy: 0.8480\n",
            "Epoch 21: val_loss improved from 0.33561 to 0.31022, saving model to proyek_akhir.h5\n",
            "250/250 [==============================] - 69s 275ms/step - loss: 0.3389 - accuracy: 0.8480 - val_loss: 0.3102 - val_accuracy: 0.8700\n",
            "Epoch 22/50\n",
            "250/250 [==============================] - ETA: 0s - loss: 0.3226 - accuracy: 0.8580\n",
            "Epoch 22: val_loss did not improve from 0.31022\n",
            "250/250 [==============================] - 64s 258ms/step - loss: 0.3226 - accuracy: 0.8580 - val_loss: 0.3511 - val_accuracy: 0.8537\n",
            "Epoch 23/50\n",
            "250/250 [==============================] - ETA: 0s - loss: 0.3132 - accuracy: 0.8655\n",
            "Epoch 23: val_loss did not improve from 0.31022\n",
            "250/250 [==============================] - 63s 254ms/step - loss: 0.3132 - accuracy: 0.8655 - val_loss: 0.3366 - val_accuracy: 0.8621\n",
            "Epoch 24/50\n",
            "250/250 [==============================] - ETA: 0s - loss: 0.3075 - accuracy: 0.8691\n",
            "Epoch 24: val_loss improved from 0.31022 to 0.29920, saving model to proyek_akhir.h5\n",
            "250/250 [==============================] - 69s 277ms/step - loss: 0.3075 - accuracy: 0.8691 - val_loss: 0.2992 - val_accuracy: 0.8770\n",
            "Epoch 25/50\n",
            "250/250 [==============================] - ETA: 0s - loss: 0.3086 - accuracy: 0.8660\n",
            "Epoch 25: val_loss did not improve from 0.29920\n",
            "250/250 [==============================] - 64s 255ms/step - loss: 0.3086 - accuracy: 0.8660 - val_loss: 0.2995 - val_accuracy: 0.8810\n",
            "Epoch 26/50\n",
            "250/250 [==============================] - ETA: 0s - loss: 0.2887 - accuracy: 0.8741\n",
            "Epoch 26: val_loss did not improve from 0.29920\n",
            "250/250 [==============================] - 63s 252ms/step - loss: 0.2887 - accuracy: 0.8741 - val_loss: 0.3392 - val_accuracy: 0.8656\n",
            "Epoch 27/50\n",
            "250/250 [==============================] - ETA: 0s - loss: 0.2803 - accuracy: 0.8778\n",
            "Epoch 27: val_loss did not improve from 0.29920\n",
            "250/250 [==============================] - 63s 254ms/step - loss: 0.2803 - accuracy: 0.8778 - val_loss: 0.3528 - val_accuracy: 0.8552\n",
            "Epoch 28/50\n",
            "250/250 [==============================] - ETA: 0s - loss: 0.2661 - accuracy: 0.8864\n",
            "Epoch 28: val_loss improved from 0.29920 to 0.27804, saving model to proyek_akhir.h5\n",
            "250/250 [==============================] - 71s 282ms/step - loss: 0.2661 - accuracy: 0.8864 - val_loss: 0.2780 - val_accuracy: 0.8854\n",
            "Epoch 29/50\n",
            "250/250 [==============================] - ETA: 0s - loss: 0.2569 - accuracy: 0.8923\n",
            "Epoch 29: val_loss did not improve from 0.27804\n",
            "250/250 [==============================] - 63s 252ms/step - loss: 0.2569 - accuracy: 0.8923 - val_loss: 0.2958 - val_accuracy: 0.8795\n",
            "Epoch 30/50\n",
            "250/250 [==============================] - ETA: 0s - loss: 0.2627 - accuracy: 0.8886\n",
            "Epoch 30: val_loss improved from 0.27804 to 0.27171, saving model to proyek_akhir.h5\n",
            "250/250 [==============================] - 67s 268ms/step - loss: 0.2627 - accuracy: 0.8886 - val_loss: 0.2717 - val_accuracy: 0.8909\n",
            "Epoch 31/50\n",
            "250/250 [==============================] - ETA: 0s - loss: 0.2539 - accuracy: 0.8935\n",
            "Epoch 31: val_loss improved from 0.27171 to 0.26739, saving model to proyek_akhir.h5\n",
            "250/250 [==============================] - 69s 276ms/step - loss: 0.2539 - accuracy: 0.8935 - val_loss: 0.2674 - val_accuracy: 0.8978\n",
            "Epoch 32/50\n",
            "250/250 [==============================] - ETA: 0s - loss: 0.2489 - accuracy: 0.8960\n",
            "Epoch 32: val_loss did not improve from 0.26739\n",
            "250/250 [==============================] - 64s 256ms/step - loss: 0.2489 - accuracy: 0.8960 - val_loss: 0.2793 - val_accuracy: 0.8914\n",
            "Epoch 33/50\n",
            "250/250 [==============================] - ETA: 0s - loss: 0.2440 - accuracy: 0.8974\n",
            "Epoch 33: val_loss improved from 0.26739 to 0.26224, saving model to proyek_akhir.h5\n",
            "250/250 [==============================] - 70s 278ms/step - loss: 0.2440 - accuracy: 0.8974 - val_loss: 0.2622 - val_accuracy: 0.8978\n",
            "Epoch 34/50\n",
            "250/250 [==============================] - ETA: 0s - loss: 0.2385 - accuracy: 0.9007\n",
            "Epoch 34: val_loss did not improve from 0.26224\n",
            "250/250 [==============================] - 63s 253ms/step - loss: 0.2385 - accuracy: 0.9007 - val_loss: 0.3173 - val_accuracy: 0.8800\n",
            "Epoch 35/50\n",
            "250/250 [==============================] - ETA: 0s - loss: 0.2336 - accuracy: 0.9002\n",
            "Epoch 35: val_loss improved from 0.26224 to 0.25924, saving model to proyek_akhir.h5\n",
            "250/250 [==============================] - 71s 283ms/step - loss: 0.2336 - accuracy: 0.9002 - val_loss: 0.2592 - val_accuracy: 0.8998\n",
            "Epoch 36/50\n",
            "250/250 [==============================] - ETA: 0s - loss: 0.2316 - accuracy: 0.9037\n",
            "Epoch 36: val_loss did not improve from 0.25924\n",
            "250/250 [==============================] - 65s 261ms/step - loss: 0.2316 - accuracy: 0.9037 - val_loss: 0.3228 - val_accuracy: 0.8730\n",
            "Epoch 37/50\n",
            "250/250 [==============================] - ETA: 0s - loss: 0.2193 - accuracy: 0.9104\n",
            "Epoch 37: val_loss did not improve from 0.25924\n",
            "250/250 [==============================] - 65s 259ms/step - loss: 0.2193 - accuracy: 0.9104 - val_loss: 0.2775 - val_accuracy: 0.8869\n",
            "Epoch 38/50\n",
            "250/250 [==============================] - ETA: 0s - loss: 0.2305 - accuracy: 0.9008\n",
            "Epoch 38: val_loss did not improve from 0.25924\n",
            "250/250 [==============================] - 64s 254ms/step - loss: 0.2305 - accuracy: 0.9008 - val_loss: 0.2689 - val_accuracy: 0.8943\n",
            "Epoch 39/50\n",
            "250/250 [==============================] - ETA: 0s - loss: 0.2137 - accuracy: 0.9089\n",
            "Epoch 39: val_loss improved from 0.25924 to 0.25811, saving model to proyek_akhir.h5\n",
            "250/250 [==============================] - 69s 276ms/step - loss: 0.2137 - accuracy: 0.9089 - val_loss: 0.2581 - val_accuracy: 0.9043\n",
            "Epoch 40/50\n",
            "250/250 [==============================] - ETA: 0s - loss: 0.2113 - accuracy: 0.9118\n",
            "Epoch 40: val_loss improved from 0.25811 to 0.23446, saving model to proyek_akhir.h5\n",
            "250/250 [==============================] - 69s 275ms/step - loss: 0.2113 - accuracy: 0.9118 - val_loss: 0.2345 - val_accuracy: 0.9097\n",
            "Epoch 41/50\n",
            "250/250 [==============================] - ETA: 0s - loss: 0.2085 - accuracy: 0.9142\n",
            "Epoch 41: val_loss did not improve from 0.23446\n",
            "250/250 [==============================] - 63s 254ms/step - loss: 0.2085 - accuracy: 0.9142 - val_loss: 0.2690 - val_accuracy: 0.8978\n",
            "Epoch 42/50\n",
            "250/250 [==============================] - ETA: 0s - loss: 0.2053 - accuracy: 0.9118\n",
            "Epoch 42: val_loss did not improve from 0.23446\n",
            "250/250 [==============================] - 63s 252ms/step - loss: 0.2053 - accuracy: 0.9118 - val_loss: 0.2701 - val_accuracy: 0.8958\n",
            "Epoch 43/50\n",
            "250/250 [==============================] - ETA: 0s - loss: 0.1948 - accuracy: 0.9178\n",
            "Epoch 43: val_loss did not improve from 0.23446\n",
            "250/250 [==============================] - 63s 252ms/step - loss: 0.1948 - accuracy: 0.9178 - val_loss: 0.2583 - val_accuracy: 0.9087\n",
            "250/250 [==============================] - ETA: 0s - loss: 0.1961 - accuracy: 0.9204\n",
            "Epoch 44: val_loss did not improve from 0.23446\n",
            "250/250 [==============================] - 63s 253ms/step - loss: 0.1961 - accuracy: 0.9204 - val_loss: 0.2681 - val_accuracy: 0.8968\n",
            "Epoch 45/50\n",
            "250/250 [==============================] - ETA: 0s - loss: 0.1942 - accuracy: 0.9217\n",
            "Epoch 45: val_loss did not improve from 0.23446\n",
            "250/250 [==============================] - 63s 253ms/step - loss: 0.1942 - accuracy: 0.9217 - val_loss: 0.2505 - val_accuracy: 0.8998\n",
            "Epoch 46/50\n",
            "250/250 [==============================] - ETA: 0s - loss: 0.1902 - accuracy: 0.9221\n",
            "Epoch 46: val_loss did not improve from 0.23446\n",
            "250/250 [==============================] - 63s 252ms/step - loss: 0.1902 - accuracy: 0.9221 - val_loss: 0.2425 - val_accuracy: 0.9122\n",
            "Epoch 47/50\n",
            "250/250 [==============================] - ETA: 0s - loss: 0.1829 - accuracy: 0.9242\n",
            "Epoch 47: val_loss did not improve from 0.23446\n",
            "250/250 [==============================] - 63s 253ms/step - loss: 0.1829 - accuracy: 0.9242 - val_loss: 0.2634 - val_accuracy: 0.9008\n",
            "Epoch 48/50\n",
            "250/250 [==============================] - ETA: 0s - loss: 0.1828 - accuracy: 0.9268\n",
            "Epoch 48: val_loss improved from 0.23446 to 0.23330, saving model to proyek_akhir.h5\n",
            "\n",
            "Accuracy and Validation Accuracy telah sama tau melebihi 92%!\n",
            "Stop Train!\n",
            "250/250 [==============================] - 70s 280ms/step - loss: 0.1828 - accuracy: 0.9268 - val_loss: 0.2333 - val_accuracy: 0.9206\n"
          ]
        }
      ],
      "source": [
        "history = model.fit(\n",
        "    train_generator,\n",
        "    steps_per_epoch=steps_per_epoch,\n",
        "    epochs=50,\n",
        "    validation_data=validation_generator,\n",
        "    validation_steps=validation_steps,\n",
        "    callbacks=[ModelCheckpoint, StopModel]\n",
        ")"
      ]
    },
    {
      "cell_type": "code",
      "execution_count": 18,
      "metadata": {
        "colab": {
          "base_uri": "https://localhost:8080/"
        },
        "id": "xoYyqwa2Lil8",
        "outputId": "ec47c4ef-d2a4-4a7e-d607-2982c68055a0"
      },
      "outputs": [
        {
          "output_type": "stream",
          "name": "stdout",
          "text": [
            "64/64 [==============================] - 4s 63ms/step - loss: 0.2326 - accuracy: 0.9209\n"
          ]
        },
        {
          "output_type": "execute_result",
          "data": {
            "text/plain": [
              "[0.23263531923294067, 0.9209095239639282]"
            ]
          },
          "metadata": {},
          "execution_count": 18
        }
      ],
      "source": [
        "model.evaluate(validation_generator)"
      ]
    },
    {
      "cell_type": "code",
      "execution_count": 19,
      "metadata": {
        "colab": {
          "base_uri": "https://localhost:8080/",
          "height": 468
        },
        "id": "BpOxFlBRLjxe",
        "outputId": "a3e4e338-3566-4e5f-b02a-7a11aaa4e90e"
      },
      "outputs": [
        {
          "output_type": "display_data",
          "data": {
            "text/plain": [
              "<Figure size 1200x500 with 2 Axes>"
            ],
            "image/png": "[encoded data removed]"
          },
          "metadata": {}
        }
      ],
      "source": [
        "import matplotlib.pyplot as plt\n",
        "plt.figure(figsize=(12,5))\n",
        "plt.subplot(122)\n",
        "\n",
        "plt.subplot(1,2,1)\n",
        "plt.plot(history.history['accuracy'])\n",
        "plt.plot(history.history['val_accuracy'])\n",
        "plt.legend(['Training', 'Validation'])\n",
        "plt.title('Model accuracy')\n",
        "\n",
        "plt.subplot(1,2,2)\n",
        "plt.plot(history.history['loss'])\n",
        "plt.plot(history.history['val_loss'])\n",
        "plt.legend(['Training', 'Validation'])\n",
        "plt.title('Model loss')\n",
        "\n",
        "plt.show()"
      ]
    },
    {
      "cell_type": "markdown",
      "source": [
        "# Simpan Model"
      ],
      "metadata": {
        "id": "X6z-1bSaymdj"
      }
    },
    {
      "cell_type": "code",
      "source": [
        "#Convert to tf lite\n",
        "converter = tf.lite.TFLiteConverter.from_keras_model(model)\n",
        "tflite_model = converter.convert()\n",
        "\n",
        "#save\n",
        "with tf.io.gfile.GFile('model.tflite', 'wb') as f:\n",
        "  f.write(tflite_model)"
      ],
      "metadata": {
        "id": "7sgi4EjLxthv"
      },
      "execution_count": 20,
      "outputs": []
    }
  ],
  "metadata": {
    "accelerator": "GPU",
    "colab": {
      "provenance": [],
      "gpuType": "T4"
    },
    "kernelspec": {
      "display_name": "Python 3",
      "name": "python3"
    },
    "language_info": {
      "name": "python"
    }
  },
  "nbformat": 4,
  "nbformat_minor": 0
}